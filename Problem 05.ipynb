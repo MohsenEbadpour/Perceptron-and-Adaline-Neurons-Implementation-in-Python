{
 "cells": [
  {
   "cell_type": "markdown",
   "metadata": {},
   "source": [
    "### Loading libraries"
   ]
  },
  {
   "cell_type": "code",
   "execution_count": null,
   "metadata": {},
   "outputs": [],
   "source": [
    "from sklearn.model_selection import train_test_split \n",
    "from sklearn.metrics import accuracy_score,precision_score,confusion_matrix\n",
    "from sklearn.metrics import mean_squared_error\n",
    "\n",
    "\n",
    "import numpy as np\n",
    "from matplotlib import pyplot as plt\n",
    "from matplotlib.colors import ListedColormap, LinearSegmentedColormap\n",
    "import seaborn as sns\n",
    "import pandas as pd \n",
    "import time \n",
    "from datetime import datetime\n",
    "import os\n",
    "\n",
    "from Neuron import *\n",
    "\n",
    "sns.set_style(\"darkgrid\")\n",
    "plt.rcParams['figure.figsize'] = [9, 6]"
   ]
  },
  {
   "cell_type": "markdown",
   "metadata": {},
   "source": [
    "### loading the dataset then shuffle and split it"
   ]
  },
  {
   "cell_type": "code",
   "execution_count": null,
   "metadata": {},
   "outputs": [],
   "source": [
    "with open('dataset-nonlinear.npy', 'rb') as f:\n",
    "    dataset = np.load(f)\n",
    "    np.random.shuffle(dataset)\n",
    "    \n",
    "X_train, X_test, Y_train, Y_test = train_test_split(dataset[:,0:2], dataset[:,2:3], test_size=0.2,stratify=dataset[:,2:3])\n",
    "X_train, X_valid, Y_train, Y_valid = train_test_split(X_train, Y_train, test_size=0.125, stratify=Y_train)\n",
    "\n",
    "print(\"Count of Train data and its percentage out of all: {0}, {1}%\".format(X_train.shape[0],round(X_train.shape[0]/dataset.shape[0]*100,2)))\n",
    "print(\"Count of Test data and its percentage out of all: {0}, {1}%\".format(X_test.shape[0],round(X_test.shape[0]/dataset.shape[0]*100,2)))\n",
    "print(\"Count of Validation data and its percentage out of all: {0}, {1}%\".format(X_valid.shape[0],round(X_valid.shape[0]/dataset.shape[0]*100,2)))\n",
    "print(\"Shape Train:\",X_train.shape)\n"
   ]
  },
  {
   "cell_type": "code",
   "execution_count": null,
   "metadata": {},
   "outputs": [],
   "source": [
    "neuron = Neuron(\"A\",1,\"T\")\n",
    "neuron.fit(X_train,Y_train,X_valid,Y_valid,X_test,Y_test,1e-03,100)"
   ]
  },
  {
   "cell_type": "code",
   "execution_count": null,
   "metadata": {},
   "outputs": [],
   "source": [
    "neuron = Neuron(\"P\",1,\"T\")\n",
    "neuron.fit(X_train,Y_train,X_valid,Y_valid,X_test,Y_test,1e-03,100)"
   ]
  },
  {
   "cell_type": "code",
   "execution_count": null,
   "metadata": {},
   "outputs": [],
   "source": [
    "neuron = Neuron(\"A\",1,\"T\")\n",
    "neuron.fit(X_train,Y_train,X_valid,Y_valid,X_test,Y_test,1e-05,100)"
   ]
  },
  {
   "cell_type": "code",
   "execution_count": null,
   "metadata": {},
   "outputs": [],
   "source": [
    "neuron = Neuron(\"P\",1,\"T\")\n",
    "neuron.fit(X_train,Y_train,X_valid,Y_valid,X_test,Y_test,1e-05,100)"
   ]
  },
  {
   "cell_type": "code",
   "execution_count": null,
   "metadata": {},
   "outputs": [],
   "source": [
    "neuron = Neuron(\"A\",1,\"T\")\n",
    "neuron.fit(X_train,Y_train,X_valid,Y_valid,X_test,Y_test,1e-06,100)"
   ]
  },
  {
   "cell_type": "code",
   "execution_count": null,
   "metadata": {},
   "outputs": [],
   "source": [
    "neuron = Neuron(\"P\",1,\"T\")\n",
    "neuron.fit(X_train,Y_train,X_valid,Y_valid,X_test,Y_test,1e-06,100)"
   ]
  },
  {
   "cell_type": "code",
   "execution_count": null,
   "metadata": {},
   "outputs": [],
   "source": [
    "neuron = Neuron(\"A\",1,\"T\")\n",
    "neuron.fit(X_train,Y_train,X_valid,Y_valid,X_test,Y_test,1e-07,100)"
   ]
  },
  {
   "cell_type": "code",
   "execution_count": null,
   "metadata": {},
   "outputs": [],
   "source": [
    "neuron = Neuron(\"P\",1,\"T\")\n",
    "neuron.fit(X_train,Y_train,X_valid,Y_valid,X_test,Y_test,1e-07,100)"
   ]
  },
  {
   "cell_type": "code",
   "execution_count": null,
   "metadata": {},
   "outputs": [],
   "source": [
    "neuron = Neuron(\"A\",1,\"T\")\n",
    "neuron.fit(X_train,Y_train,X_valid,Y_valid,X_test,Y_test,1e-08,100)"
   ]
  },
  {
   "cell_type": "code",
   "execution_count": null,
   "metadata": {},
   "outputs": [],
   "source": [
    "neuron = Neuron(\"P\",1,\"T\")\n",
    "neuron.fit(X_train,Y_train,X_valid,Y_valid,X_test,Y_test,1e-08,100)"
   ]
  },
  {
   "cell_type": "code",
   "execution_count": null,
   "metadata": {},
   "outputs": [],
   "source": [
    "neuron = Neuron(\"A\",1,\"T\")\n",
    "neuron.fit(X_train,Y_train,X_valid,Y_valid,X_test,Y_test,1e-02,100)"
   ]
  },
  {
   "cell_type": "code",
   "execution_count": null,
   "metadata": {},
   "outputs": [],
   "source": [
    "neuron = Neuron(\"P\",1,\"T\")\n",
    "neuron.fit(X_train,Y_train,X_valid,Y_valid,X_test,Y_test,1e-02,100)"
   ]
  },
  {
   "cell_type": "code",
   "execution_count": null,
   "metadata": {},
   "outputs": [],
   "source": [
    "neuron = Neuron(\"A\",1,\"L\")\n",
    "neuron.fit(X_train,Y_train,X_valid,Y_valid,X_test,Y_test,1e-03,100)"
   ]
  },
  {
   "cell_type": "code",
   "execution_count": null,
   "metadata": {},
   "outputs": [],
   "source": [
    "neuron = Neuron(\"P\",1,\"L\")\n",
    "neuron.fit(X_train,Y_train,X_valid,Y_valid,X_test,Y_test,1e-03,100)"
   ]
  },
  {
   "cell_type": "code",
   "execution_count": null,
   "metadata": {},
   "outputs": [],
   "source": [
    "neuron = Neuron(\"A\",1,\"R\")\n",
    "neuron.fit(X_train,Y_train,X_valid,Y_valid,X_test,Y_test,1e-03,100)"
   ]
  },
  {
   "cell_type": "code",
   "execution_count": null,
   "metadata": {},
   "outputs": [],
   "source": [
    "neuron = Neuron(\"P\",1,\"T\")\n",
    "neuron.fit(X_train,Y_train,X_valid,Y_valid,X_test,Y_test,1e-015,100)"
   ]
  },
  {
   "cell_type": "code",
   "execution_count": null,
   "metadata": {},
   "outputs": [],
   "source": []
  },
  {
   "cell_type": "code",
   "execution_count": null,
   "metadata": {},
   "outputs": [],
   "source": []
  }
 ],
 "metadata": {
  "interpreter": {
   "hash": "2f58f5e3d824a28f35e64a3b79d7f63edde6993a3dcc3aa79d0be3205de7b8a2"
  },
  "kernelspec": {
   "display_name": "Python 3",
   "language": "python",
   "name": "python3"
  },
  "language_info": {
   "codemirror_mode": {
    "name": "ipython",
    "version": 3
   },
   "file_extension": ".py",
   "mimetype": "text/x-python",
   "name": "python",
   "nbconvert_exporter": "python",
   "pygments_lexer": "ipython3",
   "version": "3.8.2"
  }
 },
 "nbformat": 4,
 "nbformat_minor": 2
}
